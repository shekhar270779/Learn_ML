{
 "cells": [
  {
   "cell_type": "markdown",
   "id": "34b2342b",
   "metadata": {},
   "source": [
    "### Numpy\n",
    "### Post 03 - Sorting methods"
   ]
  },
  {
   "cell_type": "code",
   "execution_count": 1,
   "id": "3da91255",
   "metadata": {},
   "outputs": [],
   "source": [
    "import numpy as np"
   ]
  },
  {
   "cell_type": "code",
   "execution_count": 2,
   "id": "56d618a4",
   "metadata": {},
   "outputs": [],
   "source": [
    "np.set_printoptions(suppress=True)"
   ]
  },
  {
   "cell_type": "code",
   "execution_count": 3,
   "id": "4f5f279c",
   "metadata": {},
   "outputs": [
    {
     "name": "stdout",
     "output_type": "stream",
     "text": [
      "2\n",
      "(50, 5)\n",
      "[[  11.43   29.35    2.87 2329.68    2.87]\n",
      " [  12.07   23.32    4.41 1507.99    3.93]\n",
      " [  13.17   23.8     4.43 2108.47    3.82]\n",
      " [   5.75   41.89    1.67  189.13    0.22]\n",
      " [  12.88   42.19    0.83  728.47    4.56]]\n"
     ]
    }
   ],
   "source": [
    "data = np.genfromtxt(r'https://raw.githubusercontent.com/shekhar270779/Learn_ML/main/datasets/Lifecyclesavings.csv', delimiter=',', skip_header=1)\n",
    "print(data.ndim)\n",
    "print(data.shape)\n",
    "print(data[:5,:])"
   ]
  },
  {
   "cell_type": "code",
   "execution_count": 4,
   "id": "dee4104e",
   "metadata": {},
   "outputs": [
    {
     "name": "stdout",
     "output_type": "stream",
     "text": [
      "2\n",
      "(50, 1)\n"
     ]
    }
   ],
   "source": [
    "dt = {'names':[\"sr\",\"pop15\",\"pop75\",\"dpi\",\"ddpi\"],\n",
    "     'formats':[float, float, float, float, float]}\n",
    "data.dtype=dt\n",
    "print(data.ndim)\n",
    "print(data.shape)"
   ]
  },
  {
   "cell_type": "code",
   "execution_count": 12,
   "id": "84818e31",
   "metadata": {},
   "outputs": [
    {
     "data": {
      "text/plain": [
       "array([[(11.43, 29.35, 2.87, 2329.68, 2.87)],\n",
       "       [(12.07, 23.32, 4.41, 1507.99, 3.93)],\n",
       "       [(13.17, 23.8 , 4.43, 2108.47, 3.82)],\n",
       "       [( 5.75, 41.89, 1.67,  189.13, 0.22)],\n",
       "       [(12.88, 42.19, 0.83,  728.47, 4.56)]],\n",
       "      dtype=[('sr', '<f8'), ('pop15', '<f8'), ('pop75', '<f8'), ('dpi', '<f8'), ('ddpi', '<f8')])"
      ]
     },
     "execution_count": 12,
     "metadata": {},
     "output_type": "execute_result"
    }
   ],
   "source": [
    "data[:5]"
   ]
  },
  {
   "cell_type": "code",
   "execution_count": 13,
   "id": "45d8d8e2",
   "metadata": {},
   "outputs": [
    {
     "data": {
      "text/plain": [
       "array([[(0.6 , 39.74, 1.34,  662.86, 2.67)],\n",
       "       [(1.27, 34.03, 3.08, 1900.1 , 1.12)],\n",
       "       [(2.02, 41.18, 1.05,  220.56, 1.03)],\n",
       "       [(2.81, 46.12, 1.21,  249.87, 1.13)],\n",
       "       [(3.01, 46.05, 0.87,  289.71, 1.48)]],\n",
       "      dtype=[('sr', '<f8'), ('pop15', '<f8'), ('pop75', '<f8'), ('dpi', '<f8'), ('ddpi', '<f8')])"
      ]
     },
     "execution_count": 13,
     "metadata": {},
     "output_type": "execute_result"
    }
   ],
   "source": [
    "# sort data inplace row-wise\n",
    "data.sort(axis=0)\n",
    "data[:5]"
   ]
  },
  {
   "cell_type": "code",
   "execution_count": 14,
   "id": "069b685b",
   "metadata": {},
   "outputs": [
    {
     "data": {
      "text/plain": [
       "array([[(21.1 , 27.01, 1.91, 1257.28, 8.21)],\n",
       "       [(18.56, 45.25, 0.56,  138.33, 5.14)],\n",
       "       [(16.85, 24.42, 3.93, 2496.53, 3.99)],\n",
       "       [(15.48, 32.54, 2.47,  601.05, 8.12)],\n",
       "       [(14.65, 24.71, 3.25, 1740.7 , 7.66)]],\n",
       "      dtype=[('sr', '<f8'), ('pop15', '<f8'), ('pop75', '<f8'), ('dpi', '<f8'), ('ddpi', '<f8')])"
      ]
     },
     "execution_count": 14,
     "metadata": {},
     "output_type": "execute_result"
    }
   ],
   "source": [
    "# descending sort\n",
    "data.sort(axis=0)\n",
    "data[::-1][:5]"
   ]
  },
  {
   "cell_type": "code",
   "execution_count": 5,
   "id": "4b2e3bee",
   "metadata": {},
   "outputs": [
    {
     "name": "stdout",
     "output_type": "stream",
     "text": [
      "2\n",
      "(50, 5)\n",
      "[[  11.43   29.35    2.87 2329.68    2.87]\n",
      " [  12.07   23.32    4.41 1507.99    3.93]\n",
      " [  13.17   23.8     4.43 2108.47    3.82]\n",
      " [   5.75   41.89    1.67  189.13    0.22]\n",
      " [  12.88   42.19    0.83  728.47    4.56]]\n"
     ]
    }
   ],
   "source": [
    "#Lets reimport data\n",
    "data = np.genfromtxt(r'https://raw.githubusercontent.com/shekhar270779/Learn_ML/main/datasets/Lifecyclesavings.csv', delimiter=',', skip_header=1)\n",
    "print(data.ndim)\n",
    "print(data.shape)\n",
    "print(data[:5,:])"
   ]
  },
  {
   "cell_type": "code",
   "execution_count": 18,
   "id": "44791c39",
   "metadata": {},
   "outputs": [
    {
     "data": {
      "text/plain": [
       "array([[   0.6 ,   39.74,    1.34,  662.86,    2.67],\n",
       "       [   1.27,   34.03,    3.08, 1900.1 ,    1.12],\n",
       "       [   2.02,   41.18,    1.05,  220.56,    1.03],\n",
       "       [   2.81,   46.12,    1.21,  249.87,    1.13],\n",
       "       [   3.01,   46.05,    0.87,  289.71,    1.48]])"
      ]
     },
     "execution_count": 18,
     "metadata": {},
     "output_type": "execute_result"
    }
   ],
   "source": [
    "# first argsort on basis of first col to get index of elements , then using that index display first 5 rows of data\n",
    "data[np.argsort(data[:,0])][:5]"
   ]
  },
  {
   "cell_type": "code",
   "execution_count": 21,
   "id": "382636fc",
   "metadata": {},
   "outputs": [
    {
     "data": {
      "text/plain": [
       "array([ 6, 18, 31, 41, 16, 11, 23, 30, 49,  8, 40,  3, 38, 29, 43, 17, 46,\n",
       "       42,  5, 48, 19, 44, 47, 26, 24, 28, 15,  9, 35, 12, 20,  0, 37,  7,\n",
       "        1, 34, 14, 13, 32, 33,  4,  2, 36, 39, 21, 27, 25, 10, 45, 22],\n",
       "      dtype=int64)"
      ]
     },
     "execution_count": 21,
     "metadata": {},
     "output_type": "execute_result"
    }
   ],
   "source": [
    "# reverse sort\n",
    "np.argsort(data[:,0])"
   ]
  },
  {
   "cell_type": "code",
   "execution_count": 23,
   "id": "0f4d5d3c",
   "metadata": {},
   "outputs": [
    {
     "data": {
      "text/plain": [
       "array([[  21.1 ,   27.01,    1.91, 1257.28,    8.21],\n",
       "       [  18.56,   45.25,    0.56,  138.33,    5.14],\n",
       "       [  16.85,   24.42,    3.93, 2496.53,    3.99],\n",
       "       [  15.48,   32.54,    2.47,  601.05,    8.12],\n",
       "       [  14.65,   24.71,    3.25, 1740.7 ,    7.66]])"
      ]
     },
     "execution_count": 23,
     "metadata": {},
     "output_type": "execute_result"
    }
   ],
   "source": [
    "data[np.argsort(data[:,0])[::-1]][:5]"
   ]
  },
  {
   "cell_type": "code",
   "execution_count": 28,
   "id": "08ff1bfd",
   "metadata": {},
   "outputs": [
    {
     "data": {
      "text/plain": [
       "array([[   1.,   34.,    3., 1900.,    1.],\n",
       "       [   1.,   40.,    1.,  663.,    3.],\n",
       "       [   2.,   41.,    1.,  221.,    1.],\n",
       "       [   3.,   46.,    1.,  290.,    1.],\n",
       "       [   3.,   46.,    1.,  250.,    1.]])"
      ]
     },
     "execution_count": 28,
     "metadata": {},
     "output_type": "execute_result"
    }
   ],
   "source": [
    "### lexsort sorting happens from right to left key columns \n",
    "data = data.round()\n",
    "data[np.lexsort((data[:,1].tolist(), data[:,0].tolist()))][:5]"
   ]
  },
  {
   "cell_type": "code",
   "execution_count": 30,
   "id": "8a0ed431",
   "metadata": {},
   "outputs": [
    {
     "data": {
      "text/plain": [
       "array([[ 12.,  45.,   1., 290.,   7.],\n",
       "       [  4.,  42.,   1., 208.,   6.],\n",
       "       [ 13.,  42.,   1., 728.,   5.],\n",
       "       [ 19.,  45.,   1., 138.,   5.],\n",
       "       [  5.,  47.,   1., 243.,   5.],\n",
       "       [  4.,  44.,   1., 569.,   4.],\n",
       "       [  1.,  40.,   1., 663.,   3.],\n",
       "       [  5.,  47.,   1., 277.,   3.],\n",
       "       [ 11.,  48.,   1., 471.,   3.],\n",
       "       [  8.,  47.,   1., 232.,   3.]])"
      ]
     },
     "execution_count": 30,
     "metadata": {},
     "output_type": "execute_result"
    }
   ],
   "source": [
    "# reimport \n",
    "data = np.genfromtxt(r'https://raw.githubusercontent.com/shekhar270779/Learn_ML/main/datasets/Lifecyclesavings.csv', delimiter=',', skip_header=1)\n",
    "data = data.round()\n",
    "\n",
    "# sort 2nd index column ascending order and then 4th index column in descending order\n",
    "data[np.lexsort([-data[:,4], data[:,2]])][:10]"
   ]
  }
 ],
 "metadata": {
  "kernelspec": {
   "display_name": "Python 3",
   "language": "python",
   "name": "python3"
  },
  "language_info": {
   "codemirror_mode": {
    "name": "ipython",
    "version": 3
   },
   "file_extension": ".py",
   "mimetype": "text/x-python",
   "name": "python",
   "nbconvert_exporter": "python",
   "pygments_lexer": "ipython3",
   "version": "3.8.8"
  }
 },
 "nbformat": 4,
 "nbformat_minor": 5
}
