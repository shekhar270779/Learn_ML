{
  "nbformat": 4,
  "nbformat_minor": 5,
  "metadata": {
    "kernelspec": {
      "display_name": "Python 3",
      "language": "python",
      "name": "python3"
    },
    "language_info": {
      "codemirror_mode": {
        "name": "ipython",
        "version": 3
      },
      "file_extension": ".py",
      "mimetype": "text/x-python",
      "name": "python",
      "nbconvert_exporter": "python",
      "pygments_lexer": "ipython3",
      "version": "3.8.8"
    },
    "colab": {
      "name": "scaling_data.ipynb",
      "provenance": []
    }
  },
  "cells": [
    {
      "cell_type": "code",
      "metadata": {
        "id": "db581d0c"
      },
      "source": [
        "import numpy as np"
      ],
      "id": "db581d0c",
      "execution_count": 1,
      "outputs": []
    },
    {
      "cell_type": "code",
      "metadata": {
        "id": "0d55dae2"
      },
      "source": [
        "import pandas as pd"
      ],
      "id": "0d55dae2",
      "execution_count": 2,
      "outputs": []
    },
    {
      "cell_type": "code",
      "metadata": {
        "id": "4f313195"
      },
      "source": [
        "import matplotlib.pyplot as plt\n",
        "%matplotlib inline"
      ],
      "id": "4f313195",
      "execution_count": 3,
      "outputs": []
    },
    {
      "cell_type": "code",
      "metadata": {
        "id": "108ad968"
      },
      "source": [
        "df= pd.read_csv('https://raw.githubusercontent.com/shekhar270779/Learn_ML/main/datasets/customer_churn.csv')"
      ],
      "id": "108ad968",
      "execution_count": 4,
      "outputs": []
    },
    {
      "cell_type": "code",
      "metadata": {
        "id": "3df196f6",
        "outputId": "3b143f74-65d6-4f6a-a66b-e4b90241b20d",
        "colab": {
          "base_uri": "https://localhost:8080/",
          "height": 143
        }
      },
      "source": [
        "df.head(3)"
      ],
      "id": "3df196f6",
      "execution_count": 5,
      "outputs": [
        {
          "output_type": "execute_result",
          "data": {
            "text/html": [
              "<div>\n",
              "<style scoped>\n",
              "    .dataframe tbody tr th:only-of-type {\n",
              "        vertical-align: middle;\n",
              "    }\n",
              "\n",
              "    .dataframe tbody tr th {\n",
              "        vertical-align: top;\n",
              "    }\n",
              "\n",
              "    .dataframe thead th {\n",
              "        text-align: right;\n",
              "    }\n",
              "</style>\n",
              "<table border=\"1\" class=\"dataframe\">\n",
              "  <thead>\n",
              "    <tr style=\"text-align: right;\">\n",
              "      <th></th>\n",
              "      <th>RowNumber</th>\n",
              "      <th>CustomerId</th>\n",
              "      <th>Surname</th>\n",
              "      <th>CreditScore</th>\n",
              "      <th>Geography</th>\n",
              "      <th>Gender</th>\n",
              "      <th>Age</th>\n",
              "      <th>Tenure</th>\n",
              "      <th>Balance</th>\n",
              "      <th>NumOfProducts</th>\n",
              "      <th>HasCrCard</th>\n",
              "      <th>IsActiveMember</th>\n",
              "      <th>EstimatedSalary</th>\n",
              "      <th>Exited</th>\n",
              "    </tr>\n",
              "  </thead>\n",
              "  <tbody>\n",
              "    <tr>\n",
              "      <th>0</th>\n",
              "      <td>1</td>\n",
              "      <td>15634602</td>\n",
              "      <td>Hargrave</td>\n",
              "      <td>619</td>\n",
              "      <td>France</td>\n",
              "      <td>Female</td>\n",
              "      <td>42</td>\n",
              "      <td>2</td>\n",
              "      <td>0.00</td>\n",
              "      <td>1</td>\n",
              "      <td>1</td>\n",
              "      <td>1</td>\n",
              "      <td>101348.88</td>\n",
              "      <td>1</td>\n",
              "    </tr>\n",
              "    <tr>\n",
              "      <th>1</th>\n",
              "      <td>2</td>\n",
              "      <td>15647311</td>\n",
              "      <td>Hill</td>\n",
              "      <td>608</td>\n",
              "      <td>Spain</td>\n",
              "      <td>Female</td>\n",
              "      <td>41</td>\n",
              "      <td>1</td>\n",
              "      <td>83807.86</td>\n",
              "      <td>1</td>\n",
              "      <td>0</td>\n",
              "      <td>1</td>\n",
              "      <td>112542.58</td>\n",
              "      <td>0</td>\n",
              "    </tr>\n",
              "    <tr>\n",
              "      <th>2</th>\n",
              "      <td>3</td>\n",
              "      <td>15619304</td>\n",
              "      <td>Onio</td>\n",
              "      <td>502</td>\n",
              "      <td>France</td>\n",
              "      <td>Female</td>\n",
              "      <td>42</td>\n",
              "      <td>8</td>\n",
              "      <td>159660.80</td>\n",
              "      <td>3</td>\n",
              "      <td>1</td>\n",
              "      <td>0</td>\n",
              "      <td>113931.57</td>\n",
              "      <td>1</td>\n",
              "    </tr>\n",
              "  </tbody>\n",
              "</table>\n",
              "</div>"
            ],
            "text/plain": [
              "   RowNumber  CustomerId   Surname  ...  IsActiveMember EstimatedSalary Exited\n",
              "0          1    15634602  Hargrave  ...               1       101348.88      1\n",
              "1          2    15647311      Hill  ...               1       112542.58      0\n",
              "2          3    15619304      Onio  ...               0       113931.57      1\n",
              "\n",
              "[3 rows x 14 columns]"
            ]
          },
          "metadata": {},
          "execution_count": 5
        }
      ]
    },
    {
      "cell_type": "markdown",
      "metadata": {
        "id": "7b0cff70"
      },
      "source": [
        "### Normalization"
      ],
      "id": "7b0cff70"
    },
    {
      "cell_type": "markdown",
      "metadata": {
        "id": "fdc71ba9"
      },
      "source": [
        "#### Lets take CreditScore column"
      ],
      "id": "fdc71ba9"
    },
    {
      "cell_type": "code",
      "metadata": {
        "id": "9e521be3"
      },
      "source": [
        "min_CS = np.min(df.CreditScore)\n",
        "max_CS = np.max(df.CreditScore)\n",
        "\n",
        "df['CreditScore_normalize'] = round((df.CreditScore - min_CS)/(max_CS - min_CS),2)"
      ],
      "id": "9e521be3",
      "execution_count": 6,
      "outputs": []
    },
    {
      "cell_type": "code",
      "metadata": {
        "id": "32c23246",
        "outputId": "d5428632-3781-49c5-b8a2-028a831c2746",
        "colab": {
          "base_uri": "https://localhost:8080/"
        }
      },
      "source": [
        "print(f\"For CreditScore_normalize:\\\n",
        "        \\n min:{df['CreditScore_normalize'].min()}\\\n",
        "        \\n max:{df['CreditScore_normalize'].max()}\\\n",
        "        \\n mean: {df['CreditScore_normalize'].mean():.2f}\\\n",
        "        \\n Std: {df['CreditScore_normalize'].std():.2f}\")"
      ],
      "id": "32c23246",
      "execution_count": 7,
      "outputs": [
        {
          "output_type": "stream",
          "name": "stdout",
          "text": [
            "For CreditScore_normalize:        \n",
            " min:0.0        \n",
            " max:1.0        \n",
            " mean: 0.60        \n",
            " Std: 0.19\n"
          ]
        }
      ]
    },
    {
      "cell_type": "markdown",
      "metadata": {
        "id": "13390fa6"
      },
      "source": [
        "**Normalization** rescales a dataset so that each value falls between 0 and 1."
      ],
      "id": "13390fa6"
    },
    {
      "cell_type": "markdown",
      "metadata": {
        "id": "d1f3283f"
      },
      "source": [
        "### Standardization "
      ],
      "id": "d1f3283f"
    },
    {
      "cell_type": "code",
      "metadata": {
        "id": "d62807d2"
      },
      "source": [
        "mu_CS = np.mean(df.CreditScore)\n",
        "std_CS = np.std(df.CreditScore)\n",
        "\n",
        "df['CreditScore_standard'] = round((df['CreditScore'] - mu_CS)/std_CS,2)"
      ],
      "id": "d62807d2",
      "execution_count": 8,
      "outputs": []
    },
    {
      "cell_type": "code",
      "metadata": {
        "id": "6d802e72",
        "outputId": "6679d027-3b10-46d7-dd1a-a451fe640508",
        "colab": {
          "base_uri": "https://localhost:8080/"
        }
      },
      "source": [
        "print(f\"For CreditScore_standardize:\\\n",
        "        \\n min:{df['CreditScore_standard'].min():.2f}\\\n",
        "        \\n max:{df['CreditScore_standard'].max():.2f}\\\n",
        "        \\n mean: {df['CreditScore_standard'].mean():.2f}\\\n",
        "        \\n Std: {df['CreditScore_standard'].std():.2f}\")"
      ],
      "id": "6d802e72",
      "execution_count": 9,
      "outputs": [
        {
          "output_type": "stream",
          "name": "stdout",
          "text": [
            "For CreditScore_standardize:        \n",
            " min:-3.11        \n",
            " max:2.06        \n",
            " mean: -0.00        \n",
            " Std: 1.00\n"
          ]
        }
      ]
    },
    {
      "cell_type": "markdown",
      "metadata": {
        "id": "da7b0b0e"
      },
      "source": [
        "**Standardization** rescales data such that new dataset has mean as 0 and sd is 1"
      ],
      "id": "da7b0b0e"
    },
    {
      "cell_type": "markdown",
      "metadata": {
        "id": "cbaaf864"
      },
      "source": [
        "### Lets Plot these columns"
      ],
      "id": "cbaaf864"
    },
    {
      "cell_type": "code",
      "metadata": {
        "id": "96cf8d2a"
      },
      "source": [
        "import seaborn as sns"
      ],
      "id": "96cf8d2a",
      "execution_count": 10,
      "outputs": []
    },
    {
      "cell_type": "code",
      "metadata": {
        "id": "e0b0c90b",
        "outputId": "960064b4-7055-4356-d161-ba9a02253500",
        "colab": {
          "base_uri": "https://localhost:8080/",
          "height": 296
        }
      },
      "source": [
        "sns.kdeplot(df.CreditScore)"
      ],
      "id": "e0b0c90b",
      "execution_count": 11,
      "outputs": [
        {
          "output_type": "execute_result",
          "data": {
            "text/plain": [
              "<matplotlib.axes._subplots.AxesSubplot at 0x7f1b50821e10>"
            ]
          },
          "metadata": {},
          "execution_count": 11
        },
        {
          "output_type": "display_data",
          "data": {
            "image/png": "[encoded data removed]",
            "text/plain": [
              "<Figure size 432x288 with 1 Axes>"
            ]
          },
          "metadata": {
            "needs_background": "light"
          }
        }
      ]
    },
    {
      "cell_type": "code",
      "metadata": {
        "id": "b6c361fc",
        "outputId": "7c8dd328-baf9-4dad-cd17-1bd84d84e672",
        "colab": {
          "base_uri": "https://localhost:8080/",
          "height": 297
        }
      },
      "source": [
        "sns.kdeplot(df.CreditScore_normalize)"
      ],
      "id": "b6c361fc",
      "execution_count": 12,
      "outputs": [
        {
          "output_type": "execute_result",
          "data": {
            "text/plain": [
              "<matplotlib.axes._subplots.AxesSubplot at 0x7f1b4df62090>"
            ]
          },
          "metadata": {},
          "execution_count": 12
        },
        {
          "output_type": "display_data",
          "data": {
            "image/png": "[encoded data removed]",
            "text/plain": [
              "<Figure size 432x288 with 1 Axes>"
            ]
          },
          "metadata": {
            "needs_background": "light"
          }
        }
      ]
    },
    {
      "cell_type": "code",
      "metadata": {
        "id": "5c9d3582",
        "outputId": "f2e237eb-906f-48bc-d18a-e1cda243c8c0",
        "colab": {
          "base_uri": "https://localhost:8080/",
          "height": 297
        }
      },
      "source": [
        "sns.kdeplot(df.CreditScore_standard)"
      ],
      "id": "5c9d3582",
      "execution_count": 13,
      "outputs": [
        {
          "output_type": "execute_result",
          "data": {
            "text/plain": [
              "<matplotlib.axes._subplots.AxesSubplot at 0x7f1b4da25b90>"
            ]
          },
          "metadata": {},
          "execution_count": 13
        },
        {
          "output_type": "display_data",
          "data": {
            "image/png": "[encoded data removed]",
            "text/plain": [
              "<Figure size 432x288 with 1 Axes>"
            ]
          },
          "metadata": {
            "needs_background": "light"
          }
        }
      ]
    },
    {
      "cell_type": "markdown",
      "metadata": {
        "id": "2fe7cdd8"
      },
      "source": [
        "- Scale of Column (i.e. feature) has changed, however shape of data remains intact"
      ],
      "id": "2fe7cdd8"
    }
  ]
}