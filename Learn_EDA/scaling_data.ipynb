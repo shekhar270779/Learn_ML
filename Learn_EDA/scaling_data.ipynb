{
 "cells": [
  {
   "cell_type": "code",
   "execution_count": 1,
   "id": "db581d0c",
   "metadata": {},
   "outputs": [],
   "source": [
    "import numpy as np"
   ]
  },
  {
   "cell_type": "code",
   "execution_count": 2,
   "id": "0d55dae2",
   "metadata": {},
   "outputs": [],
   "source": [
    "import pandas as pd"
   ]
  },
  {
   "cell_type": "code",
   "execution_count": 10,
   "id": "4f313195",
   "metadata": {},
   "outputs": [],
   "source": [
    "import matplotlib.pyplot as plt\n",
    "%matplotlib inline"
   ]
  },
  {
   "cell_type": "code",
   "execution_count": 3,
   "id": "108ad968",
   "metadata": {},
   "outputs": [],
   "source": [
    "df= pd.read_csv('./datasets/customer_churn.csv')"
   ]
  },
  {
   "cell_type": "code",
   "execution_count": 4,
   "id": "3df196f6",
   "metadata": {},
   "outputs": [
    {
     "data": {
      "text/html": [
       "<div>\n",
       "<style scoped>\n",
       "    .dataframe tbody tr th:only-of-type {\n",
       "        vertical-align: middle;\n",
       "    }\n",
       "\n",
       "    .dataframe tbody tr th {\n",
       "        vertical-align: top;\n",
       "    }\n",
       "\n",
       "    .dataframe thead th {\n",
       "        text-align: right;\n",
       "    }\n",
       "</style>\n",
       "<table border=\"1\" class=\"dataframe\">\n",
       "  <thead>\n",
       "    <tr style=\"text-align: right;\">\n",
       "      <th></th>\n",
       "      <th>RowNumber</th>\n",
       "      <th>CustomerId</th>\n",
       "      <th>Surname</th>\n",
       "      <th>CreditScore</th>\n",
       "      <th>Geography</th>\n",
       "      <th>Gender</th>\n",
       "      <th>Age</th>\n",
       "      <th>Tenure</th>\n",
       "      <th>Balance</th>\n",
       "      <th>NumOfProducts</th>\n",
       "      <th>HasCrCard</th>\n",
       "      <th>IsActiveMember</th>\n",
       "      <th>EstimatedSalary</th>\n",
       "      <th>Exited</th>\n",
       "    </tr>\n",
       "  </thead>\n",
       "  <tbody>\n",
       "    <tr>\n",
       "      <th>0</th>\n",
       "      <td>1</td>\n",
       "      <td>15634602</td>\n",
       "      <td>Hargrave</td>\n",
       "      <td>619</td>\n",
       "      <td>France</td>\n",
       "      <td>Female</td>\n",
       "      <td>42</td>\n",
       "      <td>2</td>\n",
       "      <td>0.00</td>\n",
       "      <td>1</td>\n",
       "      <td>1</td>\n",
       "      <td>1</td>\n",
       "      <td>101348.88</td>\n",
       "      <td>1</td>\n",
       "    </tr>\n",
       "    <tr>\n",
       "      <th>1</th>\n",
       "      <td>2</td>\n",
       "      <td>15647311</td>\n",
       "      <td>Hill</td>\n",
       "      <td>608</td>\n",
       "      <td>Spain</td>\n",
       "      <td>Female</td>\n",
       "      <td>41</td>\n",
       "      <td>1</td>\n",
       "      <td>83807.86</td>\n",
       "      <td>1</td>\n",
       "      <td>0</td>\n",
       "      <td>1</td>\n",
       "      <td>112542.58</td>\n",
       "      <td>0</td>\n",
       "    </tr>\n",
       "    <tr>\n",
       "      <th>2</th>\n",
       "      <td>3</td>\n",
       "      <td>15619304</td>\n",
       "      <td>Onio</td>\n",
       "      <td>502</td>\n",
       "      <td>France</td>\n",
       "      <td>Female</td>\n",
       "      <td>42</td>\n",
       "      <td>8</td>\n",
       "      <td>159660.80</td>\n",
       "      <td>3</td>\n",
       "      <td>1</td>\n",
       "      <td>0</td>\n",
       "      <td>113931.57</td>\n",
       "      <td>1</td>\n",
       "    </tr>\n",
       "  </tbody>\n",
       "</table>\n",
       "</div>"
      ],
      "text/plain": [
       "   RowNumber  CustomerId   Surname  CreditScore Geography  Gender  Age  \\\n",
       "0          1    15634602  Hargrave          619    France  Female   42   \n",
       "1          2    15647311      Hill          608     Spain  Female   41   \n",
       "2          3    15619304      Onio          502    France  Female   42   \n",
       "\n",
       "   Tenure    Balance  NumOfProducts  HasCrCard  IsActiveMember  \\\n",
       "0       2       0.00              1          1               1   \n",
       "1       1   83807.86              1          0               1   \n",
       "2       8  159660.80              3          1               0   \n",
       "\n",
       "   EstimatedSalary  Exited  \n",
       "0        101348.88       1  \n",
       "1        112542.58       0  \n",
       "2        113931.57       1  "
      ]
     },
     "execution_count": 4,
     "metadata": {},
     "output_type": "execute_result"
    }
   ],
   "source": [
    "df.head(3)"
   ]
  },
  {
   "cell_type": "markdown",
   "id": "7b0cff70",
   "metadata": {},
   "source": [
    "### Normalization"
   ]
  },
  {
   "attachments": {
    "image.png": {
     "image/png": "[encoded data removed]"
    }
   },
   "cell_type": "markdown",
   "id": "ba1fb9e6",
   "metadata": {},
   "source": [
    "![image.png](attachment:image.png)"
   ]
  },
  {
   "cell_type": "markdown",
   "id": "fdc71ba9",
   "metadata": {},
   "source": [
    "#### Lets take CreditScore column"
   ]
  },
  {
   "cell_type": "code",
   "execution_count": 18,
   "id": "9e521be3",
   "metadata": {},
   "outputs": [],
   "source": [
    "min_CS = np.min(df.CreditScore)\n",
    "max_CS = np.max(df.CreditScore)\n",
    "\n",
    "df['CreditScore_normalize'] = round((df.CreditScore - min_CS)/(max_CS - min_CS),2)"
   ]
  },
  {
   "cell_type": "code",
   "execution_count": 19,
   "id": "32c23246",
   "metadata": {},
   "outputs": [
    {
     "name": "stdout",
     "output_type": "stream",
     "text": [
      "For CreditScore_normalize:        \n",
      " min:0.0        \n",
      " max:1.0        \n",
      " mean: 0.60        \n",
      " Std: 0.19\n"
     ]
    }
   ],
   "source": [
    "print(f\"For CreditScore_normalize:\\\n",
    "        \\n min:{df['CreditScore_normalize'].min()}\\\n",
    "        \\n max:{df['CreditScore_normalize'].max()}\\\n",
    "        \\n mean: {df['CreditScore_normalize'].mean():.2f}\\\n",
    "        \\n Std: {df['CreditScore_normalize'].std():.2f}\")"
   ]
  },
  {
   "cell_type": "markdown",
   "id": "13390fa6",
   "metadata": {},
   "source": [
    "**Normalization** rescales a dataset so that each value falls between 0 and 1."
   ]
  },
  {
   "cell_type": "markdown",
   "id": "d1f3283f",
   "metadata": {},
   "source": [
    "### Standardization "
   ]
  },
  {
   "attachments": {
    "image.png": {
     "image/png": "[encoded data removed]"
    }
   },
   "cell_type": "markdown",
   "id": "f598a90d",
   "metadata": {},
   "source": [
    "![image.png](attachment:image.png)"
   ]
  },
  {
   "cell_type": "code",
   "execution_count": 20,
   "id": "d62807d2",
   "metadata": {},
   "outputs": [],
   "source": [
    "mu_CS = np.mean(df.CreditScore)\n",
    "std_CS = np.std(df.CreditScore)\n",
    "\n",
    "df['CreditScore_standard'] = round((df['CreditScore'] - mu_CS)/std_CS,2)"
   ]
  },
  {
   "cell_type": "code",
   "execution_count": 21,
   "id": "6d802e72",
   "metadata": {},
   "outputs": [
    {
     "name": "stdout",
     "output_type": "stream",
     "text": [
      "For CreditScore_standardize:        \n",
      " min:-3.11        \n",
      " max:2.06        \n",
      " mean: -0.00        \n",
      " Std: 1.00\n"
     ]
    }
   ],
   "source": [
    "print(f\"For CreditScore_standardize:\\\n",
    "        \\n min:{df['CreditScore_standard'].min():.2f}\\\n",
    "        \\n max:{df['CreditScore_standard'].max():.2f}\\\n",
    "        \\n mean: {df['CreditScore_standard'].mean():.2f}\\\n",
    "        \\n Std: {df['CreditScore_standard'].std():.2f}\")"
   ]
  },
  {
   "cell_type": "markdown",
   "id": "da7b0b0e",
   "metadata": {},
   "source": [
    "**Standardization** rescales data such that new dataset has mean as 0 and sd is 1"
   ]
  },
  {
   "cell_type": "markdown",
   "id": "cbaaf864",
   "metadata": {},
   "source": [
    "### Lets Plot these columns"
   ]
  },
  {
   "cell_type": "code",
   "execution_count": 22,
   "id": "96cf8d2a",
   "metadata": {},
   "outputs": [],
   "source": [
    "import seaborn as sns"
   ]
  },
  {
   "cell_type": "code",
   "execution_count": 36,
   "id": "e0b0c90b",
   "metadata": {},
   "outputs": [
    {
     "data": {
      "text/plain": [
       "<AxesSubplot:xlabel='CreditScore', ylabel='Density'>"
      ]
     },
     "execution_count": 36,
     "metadata": {},
     "output_type": "execute_result"
    },
    {
     "data": {
      "image/png": "[encoded data removed]",
      "text/plain": [
       "<Figure size 432x288 with 1 Axes>"
      ]
     },
     "metadata": {
      "needs_background": "light"
     },
     "output_type": "display_data"
    }
   ],
   "source": [
    "sns.kdeplot(df.CreditScore)"
   ]
  },
  {
   "cell_type": "code",
   "execution_count": 37,
   "id": "b6c361fc",
   "metadata": {},
   "outputs": [
    {
     "data": {
      "text/plain": [
       "<AxesSubplot:xlabel='CreditScore', ylabel='Density'>"
      ]
     },
     "execution_count": 37,
     "metadata": {},
     "output_type": "execute_result"
    },
    {
     "data": {
      "image/png": "[encoded data removed]",
      "text/plain": [
       "<Figure size 432x288 with 1 Axes>"
      ]
     },
     "metadata": {
      "needs_background": "light"
     },
     "output_type": "display_data"
    }
   ],
   "source": [
    "sns.kdeplot(df.CreditScore_normalize)"
   ]
  },
  {
   "cell_type": "code",
   "execution_count": 38,
   "id": "5c9d3582",
   "metadata": {},
   "outputs": [
    {
     "data": {
      "text/plain": [
       "<AxesSubplot:xlabel='CreditScore_standard', ylabel='Density'>"
      ]
     },
     "execution_count": 38,
     "metadata": {},
     "output_type": "execute_result"
    },
    {
     "data": {
      "image/png": "[encoded data removed]",
      "text/plain": [
       "<Figure size 432x288 with 1 Axes>"
      ]
     },
     "metadata": {
      "needs_background": "light"
     },
     "output_type": "display_data"
    }
   ],
   "source": [
    "sns.kdeplot(df.CreditScore_standard)"
   ]
  },
  {
   "cell_type": "markdown",
   "id": "2fe7cdd8",
   "metadata": {},
   "source": [
    "- Scale of Column (i.e. feature) has changed, however shape of data remains intact"
   ]
  }
 ],
 "metadata": {
  "kernelspec": {
   "display_name": "Python 3",
   "language": "python",
   "name": "python3"
  },
  "language_info": {
   "codemirror_mode": {
    "name": "ipython",
    "version": 3
   },
   "file_extension": ".py",
   "mimetype": "text/x-python",
   "name": "python",
   "nbconvert_exporter": "python",
   "pygments_lexer": "ipython3",
   "version": "3.8.8"
  }
 },
 "nbformat": 4,
 "nbformat_minor": 5
}
