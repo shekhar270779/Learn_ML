{
 "cells": [
  {
   "cell_type": "markdown",
   "id": "220d0526",
   "metadata": {},
   "source": [
    "### Random Sampling"
   ]
  },
  {
   "cell_type": "code",
   "execution_count": 1,
   "id": "1a923f57",
   "metadata": {},
   "outputs": [],
   "source": [
    "import numpy as np\n",
    "import pandas as pd"
   ]
  },
  {
   "cell_type": "code",
   "execution_count": 2,
   "id": "8432c7cc",
   "metadata": {},
   "outputs": [],
   "source": [
    "df = pd.read_csv(r'https://raw.githubusercontent.com/shekhar270779/Learn_ML/main/datasets/Property_Crimes.csv')"
   ]
  },
  {
   "cell_type": "code",
   "execution_count": 3,
   "id": "b9b18b6e",
   "metadata": {},
   "outputs": [
    {
     "data": {
      "text/html": [
       "<div>\n",
       "<style scoped>\n",
       "    .dataframe tbody tr th:only-of-type {\n",
       "        vertical-align: middle;\n",
       "    }\n",
       "\n",
       "    .dataframe tbody tr th {\n",
       "        vertical-align: top;\n",
       "    }\n",
       "\n",
       "    .dataframe thead th {\n",
       "        text-align: right;\n",
       "    }\n",
       "</style>\n",
       "<table border=\"1\" class=\"dataframe\">\n",
       "  <thead>\n",
       "    <tr style=\"text-align: right;\">\n",
       "      <th></th>\n",
       "      <th>Area_Name</th>\n",
       "      <th>Year</th>\n",
       "      <th>Group_Name</th>\n",
       "      <th>Sub_Group_Name</th>\n",
       "      <th>Cases_Property_Recovered</th>\n",
       "      <th>Cases_Property_Stolen</th>\n",
       "      <th>Value_of_Property_Recovered</th>\n",
       "      <th>Value_of_Property_Stolen</th>\n",
       "    </tr>\n",
       "  </thead>\n",
       "  <tbody>\n",
       "    <tr>\n",
       "      <th>0</th>\n",
       "      <td>Andaman &amp; Nicobar Islands</td>\n",
       "      <td>2001</td>\n",
       "      <td>Burglary - Property</td>\n",
       "      <td>3. Burglary</td>\n",
       "      <td>27</td>\n",
       "      <td>64</td>\n",
       "      <td>755858</td>\n",
       "      <td>1321961</td>\n",
       "    </tr>\n",
       "    <tr>\n",
       "      <th>1</th>\n",
       "      <td>Andhra Pradesh</td>\n",
       "      <td>2001</td>\n",
       "      <td>Burglary - Property</td>\n",
       "      <td>3. Burglary</td>\n",
       "      <td>3321</td>\n",
       "      <td>7134</td>\n",
       "      <td>51483437</td>\n",
       "      <td>147019348</td>\n",
       "    </tr>\n",
       "    <tr>\n",
       "      <th>2</th>\n",
       "      <td>Arunachal Pradesh</td>\n",
       "      <td>2001</td>\n",
       "      <td>Burglary - Property</td>\n",
       "      <td>3. Burglary</td>\n",
       "      <td>66</td>\n",
       "      <td>248</td>\n",
       "      <td>825115</td>\n",
       "      <td>4931904</td>\n",
       "    </tr>\n",
       "    <tr>\n",
       "      <th>3</th>\n",
       "      <td>Assam</td>\n",
       "      <td>2001</td>\n",
       "      <td>Burglary - Property</td>\n",
       "      <td>3. Burglary</td>\n",
       "      <td>539</td>\n",
       "      <td>2423</td>\n",
       "      <td>3722850</td>\n",
       "      <td>21466955</td>\n",
       "    </tr>\n",
       "    <tr>\n",
       "      <th>4</th>\n",
       "      <td>Bihar</td>\n",
       "      <td>2001</td>\n",
       "      <td>Burglary - Property</td>\n",
       "      <td>3. Burglary</td>\n",
       "      <td>367</td>\n",
       "      <td>3231</td>\n",
       "      <td>2327135</td>\n",
       "      <td>17023937</td>\n",
       "    </tr>\n",
       "  </tbody>\n",
       "</table>\n",
       "</div>"
      ],
      "text/plain": [
       "                   Area_Name  Year           Group_Name Sub_Group_Name  \\\n",
       "0  Andaman & Nicobar Islands  2001  Burglary - Property    3. Burglary   \n",
       "1             Andhra Pradesh  2001  Burglary - Property    3. Burglary   \n",
       "2          Arunachal Pradesh  2001  Burglary - Property    3. Burglary   \n",
       "3                      Assam  2001  Burglary - Property    3. Burglary   \n",
       "4                      Bihar  2001  Burglary - Property    3. Burglary   \n",
       "\n",
       "   Cases_Property_Recovered  Cases_Property_Stolen  \\\n",
       "0                        27                     64   \n",
       "1                      3321                   7134   \n",
       "2                        66                    248   \n",
       "3                       539                   2423   \n",
       "4                       367                   3231   \n",
       "\n",
       "   Value_of_Property_Recovered  Value_of_Property_Stolen  \n",
       "0                       755858                   1321961  \n",
       "1                     51483437                 147019348  \n",
       "2                       825115                   4931904  \n",
       "3                      3722850                  21466955  \n",
       "4                      2327135                  17023937  "
      ]
     },
     "execution_count": 3,
     "metadata": {},
     "output_type": "execute_result"
    }
   ],
   "source": [
    "df.head()"
   ]
  },
  {
   "cell_type": "markdown",
   "id": "5600abd5",
   "metadata": {},
   "source": [
    "#### Random sample 70% without replacement"
   ]
  },
  {
   "cell_type": "code",
   "execution_count": 8,
   "id": "ecf79c15",
   "metadata": {},
   "outputs": [
    {
     "data": {
      "text/plain": [
       "2449"
      ]
     },
     "execution_count": 8,
     "metadata": {},
     "output_type": "execute_result"
    }
   ],
   "source": [
    "nrows = df.shape[0]\n",
    "nrows"
   ]
  },
  {
   "cell_type": "code",
   "execution_count": 10,
   "id": "50f1e78a",
   "metadata": {},
   "outputs": [
    {
     "data": {
      "text/plain": [
       "(1714, 8)"
      ]
     },
     "execution_count": 10,
     "metadata": {},
     "output_type": "execute_result"
    }
   ],
   "source": [
    "df_sample = df.sample(frac=0.70, replace=False, random_state=100)\n",
    "df_sample.shape"
   ]
  },
  {
   "cell_type": "markdown",
   "id": "08f44347",
   "metadata": {},
   "source": [
    "#### Bootstrap sample"
   ]
  },
  {
   "cell_type": "code",
   "execution_count": 11,
   "id": "9b43674b",
   "metadata": {},
   "outputs": [
    {
     "data": {
      "text/plain": [
       "(2449, 8)"
      ]
     },
     "execution_count": 11,
     "metadata": {},
     "output_type": "execute_result"
    }
   ],
   "source": [
    "# randomly pick same no. of rows as in dataset but with replacement\n",
    "bootstrap_sample = df.sample(frac=1, replace=True, random_state=100)\n",
    "bootstrap_sample.shape"
   ]
  },
  {
   "cell_type": "markdown",
   "id": "ef431e45",
   "metadata": {},
   "source": [
    "#### Challenge\n",
    "- Calculate 95% Confidence Interval of the means for the following -\n"
   ]
  },
  {
   "cell_type": "code",
   "execution_count": 12,
   "id": "ff663da9",
   "metadata": {},
   "outputs": [
    {
     "data": {
      "text/plain": [
       "0     4.750704\n",
       "1    11.028041\n",
       "2    13.459107\n",
       "3     9.242692\n",
       "4    12.943962\n",
       "dtype: float64"
      ]
     },
     "execution_count": 12,
     "metadata": {},
     "output_type": "execute_result"
    }
   ],
   "source": [
    "np.random.seed(100)\n",
    "arr = pd.Series(np.random.normal(10, 3, (100)))\n",
    "arr.head()"
   ]
  },
  {
   "cell_type": "code",
   "execution_count": 13,
   "id": "95dde6f0",
   "metadata": {},
   "outputs": [
    {
     "data": {
      "text/plain": [
       "pandas.core.series.Series"
      ]
     },
     "execution_count": 13,
     "metadata": {},
     "output_type": "execute_result"
    }
   ],
   "source": [
    "type(arr)"
   ]
  },
  {
   "cell_type": "code",
   "execution_count": 19,
   "id": "bfe42e59",
   "metadata": {},
   "outputs": [
    {
     "name": "stdout",
     "output_type": "stream",
     "text": [
      "9.117631418512076 10.263385872742084\n"
     ]
    }
   ],
   "source": [
    "# bootstrap sample a large no. of times say 10000\n",
    "means = []\n",
    "for i in range(10000):\n",
    "    means.append(np.mean(arr.sample(frac=1, replace=True)))\n",
    "\n",
    "# sort\n",
    "means = pd.Series(sorted(means))\n",
    "\n",
    "print(np.percentile(means, 2.5), np.percentile(means, 97.5))"
   ]
  },
  {
   "cell_type": "markdown",
   "id": "d39202e8",
   "metadata": {},
   "source": [
    "### Dummy Variables"
   ]
  },
  {
   "cell_type": "code",
   "execution_count": 21,
   "id": "eb3ee236",
   "metadata": {},
   "outputs": [
    {
     "data": {
      "text/plain": [
       "array(['Burglary - Property', 'Criminal Breach of Trust - Property',\n",
       "       'Dacoity -Property', 'Other heads of Property',\n",
       "       'Robbery - Property', 'Theft - Property', 'Total Property'],\n",
       "      dtype=object)"
      ]
     },
     "execution_count": 21,
     "metadata": {},
     "output_type": "execute_result"
    }
   ],
   "source": [
    "df.Group_Name.unique()"
   ]
  },
  {
   "cell_type": "code",
   "execution_count": 24,
   "id": "ed2ef283",
   "metadata": {},
   "outputs": [
    {
     "data": {
      "text/html": [
       "<div>\n",
       "<style scoped>\n",
       "    .dataframe tbody tr th:only-of-type {\n",
       "        vertical-align: middle;\n",
       "    }\n",
       "\n",
       "    .dataframe tbody tr th {\n",
       "        vertical-align: top;\n",
       "    }\n",
       "\n",
       "    .dataframe thead th {\n",
       "        text-align: right;\n",
       "    }\n",
       "</style>\n",
       "<table border=\"1\" class=\"dataframe\">\n",
       "  <thead>\n",
       "    <tr style=\"text-align: right;\">\n",
       "      <th></th>\n",
       "      <th>Group_Burglary - Property</th>\n",
       "      <th>Group_Criminal Breach of Trust - Property</th>\n",
       "      <th>Group_Dacoity -Property</th>\n",
       "      <th>Group_Other heads of Property</th>\n",
       "      <th>Group_Robbery - Property</th>\n",
       "      <th>Group_Theft - Property</th>\n",
       "      <th>Group_Total Property</th>\n",
       "    </tr>\n",
       "  </thead>\n",
       "  <tbody>\n",
       "    <tr>\n",
       "      <th>0</th>\n",
       "      <td>1</td>\n",
       "      <td>0</td>\n",
       "      <td>0</td>\n",
       "      <td>0</td>\n",
       "      <td>0</td>\n",
       "      <td>0</td>\n",
       "      <td>0</td>\n",
       "    </tr>\n",
       "    <tr>\n",
       "      <th>1</th>\n",
       "      <td>1</td>\n",
       "      <td>0</td>\n",
       "      <td>0</td>\n",
       "      <td>0</td>\n",
       "      <td>0</td>\n",
       "      <td>0</td>\n",
       "      <td>0</td>\n",
       "    </tr>\n",
       "    <tr>\n",
       "      <th>2</th>\n",
       "      <td>1</td>\n",
       "      <td>0</td>\n",
       "      <td>0</td>\n",
       "      <td>0</td>\n",
       "      <td>0</td>\n",
       "      <td>0</td>\n",
       "      <td>0</td>\n",
       "    </tr>\n",
       "    <tr>\n",
       "      <th>3</th>\n",
       "      <td>1</td>\n",
       "      <td>0</td>\n",
       "      <td>0</td>\n",
       "      <td>0</td>\n",
       "      <td>0</td>\n",
       "      <td>0</td>\n",
       "      <td>0</td>\n",
       "    </tr>\n",
       "    <tr>\n",
       "      <th>4</th>\n",
       "      <td>1</td>\n",
       "      <td>0</td>\n",
       "      <td>0</td>\n",
       "      <td>0</td>\n",
       "      <td>0</td>\n",
       "      <td>0</td>\n",
       "      <td>0</td>\n",
       "    </tr>\n",
       "  </tbody>\n",
       "</table>\n",
       "</div>"
      ],
      "text/plain": [
       "   Group_Burglary - Property  Group_Criminal Breach of Trust - Property  \\\n",
       "0                          1                                          0   \n",
       "1                          1                                          0   \n",
       "2                          1                                          0   \n",
       "3                          1                                          0   \n",
       "4                          1                                          0   \n",
       "\n",
       "   Group_Dacoity -Property  Group_Other heads of Property  \\\n",
       "0                        0                              0   \n",
       "1                        0                              0   \n",
       "2                        0                              0   \n",
       "3                        0                              0   \n",
       "4                        0                              0   \n",
       "\n",
       "   Group_Robbery - Property  Group_Theft - Property  Group_Total Property  \n",
       "0                         0                       0                     0  \n",
       "1                         0                       0                     0  \n",
       "2                         0                       0                     0  \n",
       "3                         0                       0                     0  \n",
       "4                         0                       0                     0  "
      ]
     },
     "execution_count": 24,
     "metadata": {},
     "output_type": "execute_result"
    }
   ],
   "source": [
    "pd.get_dummies(df.Group_Name, prefix='Group').head()"
   ]
  },
  {
   "cell_type": "markdown",
   "id": "84744e30",
   "metadata": {},
   "source": [
    "### Categorical Data"
   ]
  },
  {
   "cell_type": "code",
   "execution_count": 34,
   "id": "bdcd0a9b",
   "metadata": {},
   "outputs": [],
   "source": [
    "group_name_cat = df.Group_Name.astype('category')"
   ]
  },
  {
   "cell_type": "code",
   "execution_count": 39,
   "id": "e000ed68",
   "metadata": {},
   "outputs": [
    {
     "data": {
      "text/plain": [
       "pandas.core.series.Series"
      ]
     },
     "execution_count": 39,
     "metadata": {},
     "output_type": "execute_result"
    }
   ],
   "source": [
    "type(group_name_cat)"
   ]
  },
  {
   "cell_type": "code",
   "execution_count": 36,
   "id": "0b959dbd",
   "metadata": {},
   "outputs": [
    {
     "data": {
      "text/plain": [
       "0    Burglary - Property\n",
       "1    Burglary - Property\n",
       "2    Burglary - Property\n",
       "3    Burglary - Property\n",
       "4    Burglary - Property\n",
       "Name: Group_Name, dtype: category\n",
       "Categories (7, object): ['Burglary - Property', 'Criminal Breach of Trust - Property', 'Dacoity -Property', 'Other heads of Property', 'Robbery - Property', 'Theft - Property', 'Total Property']"
      ]
     },
     "execution_count": 36,
     "metadata": {},
     "output_type": "execute_result"
    }
   ],
   "source": [
    "group_name_cat.head()"
   ]
  },
  {
   "cell_type": "code",
   "execution_count": 40,
   "id": "0b6ea7ba",
   "metadata": {},
   "outputs": [
    {
     "data": {
      "text/plain": [
       "['Burglary - Property', 'Burglary - Property', 'Burglary - Property', 'Burglary - Property', 'Burglary - Property', ..., 'Total Property', 'Total Property', 'Total Property', 'Total Property', 'Total Property']\n",
       "Length: 2449\n",
       "Categories (7, object): ['Burglary - Property', 'Criminal Breach of Trust - Property', 'Dacoity -Property', 'Other heads of Property', 'Robbery - Property', 'Theft - Property', 'Total Property']"
      ]
     },
     "execution_count": 40,
     "metadata": {},
     "output_type": "execute_result"
    }
   ],
   "source": [
    "group_name_cat1 = pd.Categorical(df.Group_Name, df.Group_Name.unique())\n",
    "group_name_cat1"
   ]
  },
  {
   "cell_type": "code",
   "execution_count": 41,
   "id": "e411f340",
   "metadata": {},
   "outputs": [
    {
     "data": {
      "text/plain": [
       "pandas.core.arrays.categorical.Categorical"
      ]
     },
     "execution_count": 41,
     "metadata": {},
     "output_type": "execute_result"
    }
   ],
   "source": [
    "type(group_name_cat1)"
   ]
  },
  {
   "cell_type": "code",
   "execution_count": 42,
   "id": "01af5809",
   "metadata": {},
   "outputs": [
    {
     "data": {
      "text/plain": [
       "array([0, 0, 0, ..., 6, 6, 6], dtype=int8)"
      ]
     },
     "execution_count": 42,
     "metadata": {},
     "output_type": "execute_result"
    }
   ],
   "source": [
    "group_name_cat1.codes"
   ]
  },
  {
   "cell_type": "code",
   "execution_count": 43,
   "id": "756b1d27",
   "metadata": {},
   "outputs": [
    {
     "data": {
      "text/plain": [
       "Index(['Burglary - Property', 'Criminal Breach of Trust - Property',\n",
       "       'Dacoity -Property', 'Other heads of Property', 'Robbery - Property',\n",
       "       'Theft - Property', 'Total Property'],\n",
       "      dtype='object')"
      ]
     },
     "execution_count": 43,
     "metadata": {},
     "output_type": "execute_result"
    }
   ],
   "source": [
    "group_name_cat1.categories"
   ]
  },
  {
   "cell_type": "code",
   "execution_count": 44,
   "id": "fbb68534",
   "metadata": {},
   "outputs": [
    {
     "data": {
      "text/plain": [
       "Index(['Burglary - Property', 'Criminal Breach of Trust - Property',\n",
       "       'Dacoity -Property', 'Other heads of Property', 'Robbery - Property',\n",
       "       'Theft - Property', 'Total Property'],\n",
       "      dtype='object')"
      ]
     },
     "execution_count": 44,
     "metadata": {},
     "output_type": "execute_result"
    }
   ],
   "source": [
    "group_name_cat.cat.categories"
   ]
  },
  {
   "cell_type": "code",
   "execution_count": 46,
   "id": "c238dcbe",
   "metadata": {},
   "outputs": [
    {
     "data": {
      "text/html": [
       "<div>\n",
       "<style scoped>\n",
       "    .dataframe tbody tr th:only-of-type {\n",
       "        vertical-align: middle;\n",
       "    }\n",
       "\n",
       "    .dataframe tbody tr th {\n",
       "        vertical-align: top;\n",
       "    }\n",
       "\n",
       "    .dataframe thead th {\n",
       "        text-align: right;\n",
       "    }\n",
       "</style>\n",
       "<table border=\"1\" class=\"dataframe\">\n",
       "  <thead>\n",
       "    <tr style=\"text-align: right;\">\n",
       "      <th></th>\n",
       "      <th>Area_Name</th>\n",
       "      <th>Year</th>\n",
       "      <th>Group_Name</th>\n",
       "      <th>Sub_Group_Name</th>\n",
       "      <th>Cases_Property_Recovered</th>\n",
       "      <th>Cases_Property_Stolen</th>\n",
       "      <th>Value_of_Property_Recovered</th>\n",
       "      <th>Value_of_Property_Stolen</th>\n",
       "    </tr>\n",
       "  </thead>\n",
       "  <tbody>\n",
       "    <tr>\n",
       "      <th>0</th>\n",
       "      <td>Andaman &amp; Nicobar Islands</td>\n",
       "      <td>2001</td>\n",
       "      <td>Burglary - Property</td>\n",
       "      <td>3. Burglary</td>\n",
       "      <td>27</td>\n",
       "      <td>64</td>\n",
       "      <td>755858</td>\n",
       "      <td>1321961</td>\n",
       "    </tr>\n",
       "    <tr>\n",
       "      <th>1</th>\n",
       "      <td>Andhra Pradesh</td>\n",
       "      <td>2001</td>\n",
       "      <td>Burglary - Property</td>\n",
       "      <td>3. Burglary</td>\n",
       "      <td>3321</td>\n",
       "      <td>7134</td>\n",
       "      <td>51483437</td>\n",
       "      <td>147019348</td>\n",
       "    </tr>\n",
       "    <tr>\n",
       "      <th>2</th>\n",
       "      <td>Arunachal Pradesh</td>\n",
       "      <td>2001</td>\n",
       "      <td>Burglary - Property</td>\n",
       "      <td>3. Burglary</td>\n",
       "      <td>66</td>\n",
       "      <td>248</td>\n",
       "      <td>825115</td>\n",
       "      <td>4931904</td>\n",
       "    </tr>\n",
       "  </tbody>\n",
       "</table>\n",
       "</div>"
      ],
      "text/plain": [
       "                   Area_Name  Year           Group_Name Sub_Group_Name  \\\n",
       "0  Andaman & Nicobar Islands  2001  Burglary - Property    3. Burglary   \n",
       "1             Andhra Pradesh  2001  Burglary - Property    3. Burglary   \n",
       "2          Arunachal Pradesh  2001  Burglary - Property    3. Burglary   \n",
       "\n",
       "   Cases_Property_Recovered  Cases_Property_Stolen  \\\n",
       "0                        27                     64   \n",
       "1                      3321                   7134   \n",
       "2                        66                    248   \n",
       "\n",
       "   Value_of_Property_Recovered  Value_of_Property_Stolen  \n",
       "0                       755858                   1321961  \n",
       "1                     51483437                 147019348  \n",
       "2                       825115                   4931904  "
      ]
     },
     "execution_count": 46,
     "metadata": {},
     "output_type": "execute_result"
    }
   ],
   "source": [
    "df.head(3)"
   ]
  },
  {
   "cell_type": "code",
   "execution_count": 47,
   "id": "e88d10f4",
   "metadata": {},
   "outputs": [
    {
     "data": {
      "text/plain": [
       "array(['3. Burglary', '5. Criminal Breach of Trust', '1. Dacoity',\n",
       "       '6. Other Property', '2. Robbery', '4. Theft',\n",
       "       '7. Total Property Stolen & Recovered'], dtype=object)"
      ]
     },
     "execution_count": 47,
     "metadata": {},
     "output_type": "execute_result"
    }
   ],
   "source": [
    "df.Sub_Group_Name.unique()"
   ]
  },
  {
   "cell_type": "code",
   "execution_count": 51,
   "id": "f839966d",
   "metadata": {},
   "outputs": [],
   "source": [
    "subgroup_cat = df.Sub_Group_Name.astype('category')"
   ]
  },
  {
   "cell_type": "code",
   "execution_count": 52,
   "id": "62e0cc36",
   "metadata": {},
   "outputs": [
    {
     "data": {
      "text/plain": [
       "Index(['1. Dacoity', '2. Robbery', '3. Burglary', '4. Theft',\n",
       "       '5. Criminal Breach of Trust', '6. Other Property',\n",
       "       '7. Total Property Stolen & Recovered'],\n",
       "      dtype='object')"
      ]
     },
     "execution_count": 52,
     "metadata": {},
     "output_type": "execute_result"
    }
   ],
   "source": [
    "subgroup_cat.cat.categories"
   ]
  },
  {
   "cell_type": "code",
   "execution_count": 54,
   "id": "bc85fcd3",
   "metadata": {},
   "outputs": [
    {
     "data": {
      "text/plain": [
       "0                                3. Burglary\n",
       "1                                3. Burglary\n",
       "2                                3. Burglary\n",
       "3                                3. Burglary\n",
       "4                                3. Burglary\n",
       "                        ...                 \n",
       "2444    7. Total Property Stolen & Recovered\n",
       "2445    7. Total Property Stolen & Recovered\n",
       "2446    7. Total Property Stolen & Recovered\n",
       "2447    7. Total Property Stolen & Recovered\n",
       "2448    7. Total Property Stolen & Recovered\n",
       "Name: Sub_Group_Name, Length: 2449, dtype: category\n",
       "Categories (8, object): ['1. Dacoity', '2. Robbery', '3. Burglary', '4. Theft', '5. Criminal Breach of Trust', '6. Other Property', '7. Total Property Stolen & Recovered', 'missing']"
      ]
     },
     "execution_count": 54,
     "metadata": {},
     "output_type": "execute_result"
    }
   ],
   "source": [
    "subgroup_cat.cat.add_categories('missing')"
   ]
  },
  {
   "cell_type": "markdown",
   "id": "352ee3fb",
   "metadata": {},
   "source": [
    "#### add categories"
   ]
  },
  {
   "cell_type": "code",
   "execution_count": 55,
   "id": "5f15eb5e",
   "metadata": {},
   "outputs": [],
   "source": [
    "subgroup_cat = subgroup_cat.cat.add_categories('missing')"
   ]
  },
  {
   "cell_type": "code",
   "execution_count": 56,
   "id": "13301fcf",
   "metadata": {},
   "outputs": [
    {
     "data": {
      "text/plain": [
       "1. Dacoity                              350\n",
       "2. Robbery                              350\n",
       "3. Burglary                             350\n",
       "4. Theft                                350\n",
       "5. Criminal Breach of Trust             350\n",
       "6. Other Property                       350\n",
       "7. Total Property Stolen & Recovered    349\n",
       "missing                                   0\n",
       "Name: Sub_Group_Name, dtype: int64"
      ]
     },
     "execution_count": 56,
     "metadata": {},
     "output_type": "execute_result"
    }
   ],
   "source": [
    "subgroup_cat.value_counts()"
   ]
  },
  {
   "cell_type": "markdown",
   "id": "d594de12",
   "metadata": {},
   "source": [
    "#### remove unused categories"
   ]
  },
  {
   "cell_type": "code",
   "execution_count": 59,
   "id": "0f15e4ba",
   "metadata": {},
   "outputs": [],
   "source": [
    "subgroup_cat = subgroup_cat.cat.remove_unused_categories()"
   ]
  },
  {
   "cell_type": "code",
   "execution_count": 60,
   "id": "0b9cec2a",
   "metadata": {},
   "outputs": [
    {
     "data": {
      "text/plain": [
       "1. Dacoity                              350\n",
       "2. Robbery                              350\n",
       "3. Burglary                             350\n",
       "4. Theft                                350\n",
       "5. Criminal Breach of Trust             350\n",
       "6. Other Property                       350\n",
       "7. Total Property Stolen & Recovered    349\n",
       "Name: Sub_Group_Name, dtype: int64"
      ]
     },
     "execution_count": 60,
     "metadata": {},
     "output_type": "execute_result"
    }
   ],
   "source": [
    "subgroup_cat.value_counts()"
   ]
  },
  {
   "cell_type": "markdown",
   "id": "11bef07f",
   "metadata": {},
   "source": [
    "#### remove used categories"
   ]
  },
  {
   "cell_type": "code",
   "execution_count": 62,
   "id": "0012e139",
   "metadata": {},
   "outputs": [
    {
     "data": {
      "text/plain": [
       "0                                        NaN\n",
       "1                                        NaN\n",
       "2                                        NaN\n",
       "3                                        NaN\n",
       "4                                        NaN\n",
       "                        ...                 \n",
       "2444    7. Total Property Stolen & Recovered\n",
       "2445    7. Total Property Stolen & Recovered\n",
       "2446    7. Total Property Stolen & Recovered\n",
       "2447    7. Total Property Stolen & Recovered\n",
       "2448    7. Total Property Stolen & Recovered\n",
       "Name: Sub_Group_Name, Length: 2449, dtype: category\n",
       "Categories (6, object): ['1. Dacoity', '2. Robbery', '4. Theft', '5. Criminal Breach of Trust', '6. Other Property', '7. Total Property Stolen & Recovered']"
      ]
     },
     "execution_count": 62,
     "metadata": {},
     "output_type": "execute_result"
    }
   ],
   "source": [
    "subgroup_cat.cat.remove_categories('3. Burglary')"
   ]
  },
  {
   "cell_type": "code",
   "execution_count": 66,
   "id": "c565f835",
   "metadata": {},
   "outputs": [],
   "source": [
    "subgroup_ordcat = pd.Series(pd.Categorical(df.Sub_Group_Name, ordered=True))"
   ]
  },
  {
   "cell_type": "code",
   "execution_count": 67,
   "id": "a55a0272",
   "metadata": {},
   "outputs": [
    {
     "data": {
      "text/plain": [
       "Index(['1. Dacoity', '2. Robbery', '3. Burglary', '4. Theft',\n",
       "       '5. Criminal Breach of Trust', '6. Other Property',\n",
       "       '7. Total Property Stolen & Recovered'],\n",
       "      dtype='object')"
      ]
     },
     "execution_count": 67,
     "metadata": {},
     "output_type": "execute_result"
    }
   ],
   "source": [
    "subgroup_ordcat.cat.categories"
   ]
  },
  {
   "cell_type": "code",
   "execution_count": 71,
   "id": "9bfee79d",
   "metadata": {},
   "outputs": [
    {
     "data": {
      "text/plain": [
       "0    3. Burglary\n",
       "1    3. Burglary\n",
       "2    3. Burglary\n",
       "dtype: category\n",
       "Categories (7, object): ['1. Dacoity' < '2. Robbery' < '3. Burglary' < '4. Theft' < '5. Criminal Breach of Trust' < '6. Other Property' < '7. Total Property Stolen & Recovered']"
      ]
     },
     "execution_count": 71,
     "metadata": {},
     "output_type": "execute_result"
    }
   ],
   "source": [
    "subgroup_ordcat.head(3)"
   ]
  },
  {
   "cell_type": "code",
   "execution_count": 72,
   "id": "e0291dc1",
   "metadata": {},
   "outputs": [
    {
     "data": {
      "text/plain": [
       "874                               1. Dacoity\n",
       "938                               1. Dacoity\n",
       "937                               1. Dacoity\n",
       "936                               1. Dacoity\n",
       "935                               1. Dacoity\n",
       "                        ...                 \n",
       "2212    7. Total Property Stolen & Recovered\n",
       "2211    7. Total Property Stolen & Recovered\n",
       "2210    7. Total Property Stolen & Recovered\n",
       "2218    7. Total Property Stolen & Recovered\n",
       "2448    7. Total Property Stolen & Recovered\n",
       "Length: 2449, dtype: category\n",
       "Categories (7, object): ['1. Dacoity' < '2. Robbery' < '3. Burglary' < '4. Theft' < '5. Criminal Breach of Trust' < '6. Other Property' < '7. Total Property Stolen & Recovered']"
      ]
     },
     "execution_count": 72,
     "metadata": {},
     "output_type": "execute_result"
    }
   ],
   "source": [
    "subgroup_ordcat.sort_values()"
   ]
  },
  {
   "cell_type": "code",
   "execution_count": 75,
   "id": "d6bef1e4",
   "metadata": {},
   "outputs": [
    {
     "data": {
      "text/plain": [
       "0             A\n",
       "1            A+\n",
       "2             B\n",
       "3             C\n",
       "4    Excellence\n",
       "5             A\n",
       "6            A+\n",
       "7            B+\n",
       "dtype: object"
      ]
     },
     "execution_count": 75,
     "metadata": {},
     "output_type": "execute_result"
    }
   ],
   "source": [
    "grades = pd.Series(['A','A+','B', 'C', 'Excellence','A','A+','B+'])\n",
    "grades"
   ]
  },
  {
   "cell_type": "code",
   "execution_count": 82,
   "id": "6e8eeba8",
   "metadata": {},
   "outputs": [
    {
     "data": {
      "text/plain": [
       "0             A\n",
       "1            A+\n",
       "2             B\n",
       "3             C\n",
       "4    Excellence\n",
       "5             A\n",
       "6            A+\n",
       "7            B+\n",
       "dtype: category\n",
       "Categories (6, object): ['A', 'A+', 'B', 'B+', 'C', 'Excellence']"
      ]
     },
     "execution_count": 82,
     "metadata": {},
     "output_type": "execute_result"
    }
   ],
   "source": [
    "grades_cat = pd.Series(pd.Categorical(grades))\n",
    "grades_cat"
   ]
  },
  {
   "cell_type": "code",
   "execution_count": 83,
   "id": "df0adff5",
   "metadata": {},
   "outputs": [
    {
     "data": {
      "text/plain": [
       "0             A\n",
       "1            A+\n",
       "2             B\n",
       "3             C\n",
       "4    Excellence\n",
       "5             A\n",
       "6            A+\n",
       "7            B+\n",
       "dtype: category\n",
       "Categories (6, object): ['A' < 'A+' < 'B' < 'B+' < 'C' < 'Excellence']"
      ]
     },
     "execution_count": 83,
     "metadata": {},
     "output_type": "execute_result"
    }
   ],
   "source": [
    "grades_cat1 = pd.Series(pd.Categorical(grades, ordered=True))\n",
    "grades_cat1"
   ]
  },
  {
   "cell_type": "code",
   "execution_count": 84,
   "id": "fbf2b45c",
   "metadata": {},
   "outputs": [
    {
     "data": {
      "text/plain": [
       "Index(['A', 'A+', 'B', 'B+', 'C', 'Excellence'], dtype='object')"
      ]
     },
     "execution_count": 84,
     "metadata": {},
     "output_type": "execute_result"
    }
   ],
   "source": [
    "grades_cat1.cat.categories"
   ]
  },
  {
   "cell_type": "code",
   "execution_count": 86,
   "id": "9f5e8b5d",
   "metadata": {},
   "outputs": [
    {
     "data": {
      "text/plain": [
       "0             A\n",
       "5             A\n",
       "1            A+\n",
       "6            A+\n",
       "2             B\n",
       "7            B+\n",
       "3             C\n",
       "4    Excellence\n",
       "dtype: category\n",
       "Categories (6, object): ['A' < 'A+' < 'B' < 'B+' < 'C' < 'Excellence']"
      ]
     },
     "execution_count": 86,
     "metadata": {},
     "output_type": "execute_result"
    }
   ],
   "source": [
    "grades_cat1.sort_values()"
   ]
  },
  {
   "cell_type": "code",
   "execution_count": 87,
   "id": "6ef11258",
   "metadata": {},
   "outputs": [
    {
     "data": {
      "text/plain": [
       "0             A\n",
       "1            A+\n",
       "2             B\n",
       "3             C\n",
       "4    Excellence\n",
       "5             A\n",
       "6            A+\n",
       "7            B+\n",
       "dtype: category\n",
       "Categories (6, object): ['C' < 'B' < 'B+' < 'A' < 'A+' < 'Excellence']"
      ]
     },
     "execution_count": 87,
     "metadata": {},
     "output_type": "execute_result"
    }
   ],
   "source": [
    "grades_cat1 = grades_cat1.cat.reorder_categories(['C','B','B+','A','A+','Excellence'])\n",
    "grades_cat1"
   ]
  },
  {
   "cell_type": "code",
   "execution_count": 88,
   "id": "3c9f7738",
   "metadata": {},
   "outputs": [
    {
     "data": {
      "text/plain": [
       "3             C\n",
       "2             B\n",
       "7            B+\n",
       "0             A\n",
       "5             A\n",
       "1            A+\n",
       "6            A+\n",
       "4    Excellence\n",
       "dtype: category\n",
       "Categories (6, object): ['C' < 'B' < 'B+' < 'A' < 'A+' < 'Excellence']"
      ]
     },
     "execution_count": 88,
     "metadata": {},
     "output_type": "execute_result"
    }
   ],
   "source": [
    "grades_cat1.sort_values()"
   ]
  },
  {
   "cell_type": "code",
   "execution_count": 90,
   "id": "c6c842b8",
   "metadata": {},
   "outputs": [
    {
     "data": {
      "text/plain": [
       "0    3\n",
       "1    4\n",
       "2    1\n",
       "3    0\n",
       "4    5\n",
       "5    3\n",
       "6    4\n",
       "7    2\n",
       "dtype: int8"
      ]
     },
     "execution_count": 90,
     "metadata": {},
     "output_type": "execute_result"
    }
   ],
   "source": [
    "grades_cat1.cat.codes"
   ]
  }
 ],
 "metadata": {
  "kernelspec": {
   "display_name": "Python 3",
   "language": "python",
   "name": "python3"
  },
  "language_info": {
   "codemirror_mode": {
    "name": "ipython",
    "version": 3
   },
   "file_extension": ".py",
   "mimetype": "text/x-python",
   "name": "python",
   "nbconvert_exporter": "python",
   "pygments_lexer": "ipython3",
   "version": "3.8.8"
  }
 },
 "nbformat": 4,
 "nbformat_minor": 5
}
